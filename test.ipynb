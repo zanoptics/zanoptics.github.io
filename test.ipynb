{
 "cells": [
  {
   "cell_type": "code",
   "execution_count": 1,
   "metadata": {},
   "outputs": [
    {
     "data": {
      "text/plain": [
       "['README.md',\n",
       " '_navbar.md',\n",
       " '_sidebar.md',\n",
       " '参与编辑',\n",
       " '数学工具',\n",
       " '文史哲',\n",
       " '物理原理',\n",
       " '硬件',\n",
       " '软件&科学计算']"
      ]
     },
     "execution_count": 1,
     "metadata": {},
     "output_type": "execute_result"
    }
   ],
   "source": [
    "import os\n",
    "import glob\n",
    "import re\n",
    "os.listdir('doc')"
   ]
  },
  {
   "cell_type": "code",
   "execution_count": 15,
   "metadata": {},
   "outputs": [
    {
     "name": "stdout",
     "output_type": "stream",
     "text": [
      "search: {\n",
      "    paths: 'auto',\n",
      "    depth: 6,\n",
      "    pathNamespaces: ['/doc/参与编辑', '/doc/数学工具/信号与系统&积分变换', '/doc/数学工具/复变函数', \n",
      "    '/doc/数学工具/数学物理方程', '/doc/数学工具/矢量微积分', '/doc/数学工具/线性代数', \n",
      "    '/doc/数学工具/高等数学', '/doc/物理原理/力学', '/doc/物理原理/普物实验', '/doc/物理原理/热学', \n",
      "    '/doc/物理原理/物理光学', '/doc/物理原理/电磁学', '/doc/硬件/数电', '/doc/硬件/模电', \n",
      "    '/doc/硬件/电路分析', '/doc/软件&科学计算/C', '/doc/软件&科学计算/matlab', '/doc/软件&科学计算/python', \n",
      "    '/doc/软件&科学计算/并行计算', '/doc/软件&科学计算/数学建模', '/doc/软件&科学计算/计算机原理'],\n",
      "  },\n"
     ]
    },
    {
     "data": {
      "text/plain": [
       "\"search: {\\n    paths: 'auto',\\n    depth: 6,\\n    pathNamespaces: ['/doc/参与编辑', '/doc/数学工具/信号与系统&积分变换', '/doc/数学工具/复变函数', \\n    '/doc/数学工具/数学物理方程', '/doc/数学工具/矢量微积分', '/doc/数学工具/线性代数', \\n    '/doc/数学工具/高等数学', '/doc/物理原理/力学', '/doc/物理原理/普物实验', '/doc/物理原理/热学', \\n    '/doc/物理原理/物理光学', '/doc/物理原理/电磁学', '/doc/硬件/数电', '/doc/硬件/模电', \\n    '/doc/硬件/电路分析', '/doc/软件&科学计算/C', '/doc/软件&科学计算/matlab', '/doc/软件&科学计算/python', \\n    '/doc/软件&科学计算/并行计算', '/doc/软件&科学计算/数学建模', '/doc/软件&科学计算/计算机原理'],\\n  },\""
      ]
     },
     "execution_count": 15,
     "metadata": {},
     "output_type": "execute_result"
    }
   ],
   "source": [
    "with open('abc.html', 'r', encoding='utf-8') as file:\n",
    "    content = file.read()\n",
    "print(content)\n",
    "re.sub(\"pathNamespaces: \\[.*\\],\", \"pathNamespaces: ['12a34'],\", content, count=1)"
   ]
  },
  {
   "cell_type": "code",
   "execution_count": null,
   "metadata": {},
   "outputs": [
    {
     "data": {
      "text/plain": [
       "('<!DOCTYPE html>\\n<html lang=\"en\">\\n<head>\\n  <meta charset=\"UTF-8\">\\n  <title>Document</title>\\n  <meta http-equiv=\"X-UA-Compatible\" content=\"IE=edge,chrome=1\" />\\n  <meta name=\"description\" content=\"Description\">\\n  <meta name=\"viewport\" content=\"width=device-width, initial-scale=1.0, minimum-scale=1.0\">\\n  <link rel=\"stylesheet\" href=\"//cdn.jsdelivr.net/npm/docsify@4/lib/themes/vue.css\">\\n  <!-- latex支持末尾还有 -->\\n  <link rel=\"stylesheet\" href=\"//cdn.jsdelivr.net/npm/katex@latest/dist/katex.min.css\" />\\n  <!-- 代码高亮css -->\\n  <link rel=\"stylesheet\" href=\"//cdn.jsdelivr.net/npm/prismjs@1.29.0/themes/prism.min.css\" />\\n</head>\\n<body>\\n  <div id=\"app\"></div>\\n  <script>\\n    window.$docsify = {\\n      //项目名称(显示在侧边栏,点击可返回封面)\\n      name: \\'IdeaSharing\\',\\n      //仓库地址,点击右上角GitHub logo会跳转至此\\n      repo: \\'https://github.com/zanoptics/zanoptics.github.io\\',\\n      //侧边栏支持,加载根目录下的_sidebar.md\\n      loadSidebar: true, \\n      //侧边栏目录的标题显示级数\\n      subMaxLevel: 4,\\n      //导航栏支持,加载根目录下的_navbar.md\\n      loadNavbar: true,\\n      //封面支持,加载根目录下的_coverpage.md\\n      coverpage: true,\\n      //封面和README.md页面分开\\n      onlyCover: true,\\n      //搜索,实现思路是去找_sidebar.md中包括的md文件\\n      search: {\\n        paths: \\'auto\\',\\n        depth: 6,\\n        pathNamespaces: [\\'/doc/参与编辑\\', \\'/doc/数学工具/信号与系统&积分变换\\'],\\n      },\\n    }\\n  </script>\\n  <!-- Docsify v4 获取指定版本,以防更新后出现bug-->\\n  <script src=\"//cdn.jsdelivr.net/npm/docsify@4\"></script>\\n  <!-- 搜索功能支持 -->\\n  <script src=\"//cdn.jsdelivr.net/npm/docsify/lib/plugins/search.min.js\"></script>\\n  <!-- python语法高亮 -->\\n  <script src=\"//cdn.jsdelivr.net/npm/prismjs@1.29.0/components/prism-python.js\"></script>\\n  <!-- matlab语法高亮 -->\\n  <script src=\"//cdn.jsdelivr.net/npm/prismjs@1.29.0/components/prism-matlab.js\"></script>\\n  <!-- markdown mermaid支持 -->\\n  <script src=\"//unpkg.com/mermaid/dist/mermaid.js\"></script>\\n  <script src=\"//unpkg.com/docsify-mermaid@latest/dist/docsify-mermaid.js\"></script>\\n  <!-- latex支持开头还有 -->\\n  <script src=\"//cdn.jsdelivr.net/npm/katex@latest/dist/katex.min.js\"></script>\\n  <script src=\"//cdn.jsdelivr.net/npm/marked@4\"></script>\\n  <script src=\"//cdn.jsdelivr.net/npm/docsify-katex@latest/dist/docsify-katex.js\"></script>\\n  <!-- 点击图片后放大查看 -->\\n  <script src=\"//cdn.jsdelivr.net/npm/docsify/lib/plugins/zoom-image.min.js\"></script>\\n  <!-- ggb插件 -->\\n  <script src=\"https://cdn.geogebra.org/apps/deployggb.js\"></script>\\n</body>\\n</html>',\n",
       " \"pathNamespaces: ['/doc', '/doc/参与编辑', '/doc/数学工具', '/doc/数学工具/信号与系统&积分变换', '/doc/数学工具/复变函数', '/doc/数学工具/数学物理方程', '/doc/数学工具/矢量微积分', '/doc/数学工具/线性代数', '/doc/数学工具/高等数学', '/doc/文史哲', '/doc/文史哲/1.弥合责任缝隙——人工智能体与归责问题', '/doc/物理原理', '/doc/物理原理/力学', '/doc/物理原理/普物实验', '/doc/物理原理/热学', '/doc/物理原理/物理光学', '/doc/物理原理/电磁学', '/doc/硬件', '/doc/硬件/数电', '/doc/硬件/模电', '/doc/硬件/电路分析', '/doc/软件&科学计算', '/doc/软件&科学计算/C', '/doc/软件&科学计算/C/1.Linux中的C_C++开发', '/doc/软件&科学计算/matlab', '/doc/软件&科学计算/python', '/doc/软件&科学计算/并行计算', '/doc/软件&科学计算/数学建模', '/doc/软件&科学计算/计算机原理'],\")"
      ]
     },
     "execution_count": 16,
     "metadata": {},
     "output_type": "execute_result"
    }
   ],
   "source": [
    "import os\n",
    "import glob\n",
    "import re\n",
    "#pathNamespaces\n",
    "final_list = []\n",
    "for name in glob.glob(\"./**/*.md\", recursive=True):\n",
    "    if \"README\" in name:\n",
    "        fix_name = name.replace(\"\\\\\",\"/\")[1:-10]\n",
    "        if fix_name:\n",
    "            final_list.append(fix_name)\n",
    "\n",
    "with open('index.html', 'r', encoding='utf-8') as file:\n",
    "    content = file.read()\n",
    "\n",
    "with open('index.html','w',encoding='utf-8') as f:\n",
    "    str_2add = \"pathNamespaces: \"+str(final_list)+\",\"\n",
    "    new_content = re.sub(\"pathNamespaces: \\[.*\\],\", str_2add, content, count=1)\n",
    "    f.write(new_content)\n",
    "\n",
    "print(str_2add)"
   ]
  },
  {
   "cell_type": "code",
   "execution_count": null,
   "metadata": {},
   "outputs": [
    {
     "name": "stdout",
     "output_type": "stream",
     "text": [
      "paths: ['/README.md', '/doc/README.md', '/doc/参与编辑/README.md', '/doc/数学工具/README.md', '/doc/数学工具/信号与系统&积分变换/3.6.2展成复指数求x[n]频谱系数_需对周期分类讨论.md', '/doc/数学工具/信号与系统&积分变换/README.md', '/doc/数学工具/复变函数/1.2.1用连续点集判断单连通的反例.md', '/doc/数学工具/复变函数/README.md', '/doc/数学工具/数学物理方程/README.md', '/doc/数学工具/矢量微积分/README.md', '/doc/数学工具/线性代数/README.md', '/doc/数学工具/高等数学/README.md', '/doc/数学工具/高等数学/test.md', '/doc/数学工具/高等数学/test1.md', '/doc/数学工具/高等数学/test2.md', '/doc/数学工具/高等数学/test3.md', '/doc/文史哲/README.md', '/doc/文史哲/1.弥合责任缝隙——人工智能体与归责问题/README.md', '/doc/物理原理/README.md', '/doc/物理原理/力学/README.md', '/doc/物理原理/普物实验/0.1逐差法中的不确定度计算.md', '/doc/物理原理/普物实验/README.md', '/doc/物理原理/热学/README.md', '/doc/物理原理/物理光学/0.1快速复习光学.md', '/doc/物理原理/物理光学/README.md', '/doc/物理原理/电磁学/README.md', '/doc/硬件/README.md', '/doc/硬件/数电/README.md', '/doc/硬件/模电/README.md', '/doc/硬件/电路分析/README.md', '/doc/软件&科学计算/README.md', '/doc/软件&科学计算/C/README.md', '/doc/软件&科学计算/C/1.Linux中的C_C++开发/1.参考资料.md', '/doc/软件&科学计算/C/1.Linux中的C_C++开发/README.md', '/doc/软件&科学计算/matlab/0.0光栅光谱仪bug记录.md', '/doc/软件&科学计算/matlab/1.1逻辑值索引的妙用.md', '/doc/软件&科学计算/matlab/2.1卷积和的matlab实现.md', '/doc/软件&科学计算/matlab/README.md', '/doc/软件&科学计算/python/1.0.0regression.md', '/doc/软件&科学计算/python/README.md', '/doc/软件&科学计算/并行计算/README.md', '/doc/软件&科学计算/数学建模/README.md', '/doc/软件&科学计算/计算机原理/README.md'],\n"
     ]
    }
   ],
   "source": [
    "import os\n",
    "import glob\n",
    "import re\n",
    "#一说把所有md都放到index.html的paths里可以解决，但我没成功，先保留在此吧\n",
    "final_list = []\n",
    "for name in glob.glob(\"./**/*.md\", recursive=True):\n",
    "    if \"_navbar\" in name or \"_sidebar\" in name or \"_coverpage\" in name:\n",
    "        continue\n",
    "    fix_name = name.replace(\"\\\\\",\"/\")[1:]\n",
    "    final_list.append(fix_name)\n",
    "    # print(fix_name,end=\", \")\n",
    "\n",
    "with open('index.html', 'r', encoding='utf-8') as file:\n",
    "    content = file.read()\n",
    "\n",
    "with open('index.html','w',encoding='utf-8') as f:\n",
    "    str_2add = \"paths: \"+str(final_list)+\",\"\n",
    "    new_content = re.sub(\"paths: \\[.*\\],\", str_2add, content, count=1)\n",
    "    f.write(new_content)\n",
    "\n",
    "print(str_2add)"
   ]
  },
  {
   "cell_type": "code",
   "execution_count": null,
   "metadata": {},
   "outputs": [],
   "source": [
    "for i in os.listdir('doc'):\n",
    "    if os.listdir(i):\n",
    "        relp=f'/doc/{i}'\n",
    "        print(relp)"
   ]
  },
  {
   "cell_type": "code",
   "execution_count": 8,
   "metadata": {},
   "outputs": [
    {
     "name": "stdout",
     "output_type": "stream",
     "text": [
      "('doc', ['参与编辑', '数学工具', '物理原理', '硬件', '软件&科学计算'], ['README.md', '_navbar.md', '_sidebar.md'])\n",
      "('doc\\\\参与编辑', ['figure'], ['README.md', '_navbar.md', '_sidebar.md'])\n",
      "('doc\\\\参与编辑\\\\figure', [], ['sztu.png'])\n",
      "('doc\\\\数学工具', ['信号与系统&积分变换', '复变函数', '数学物理方程', '矢量微积分', '线性代数', '高等数学'], ['README.md', '_navbar.md', '_sidebar.md'])\n",
      "('doc\\\\数学工具\\\\信号与系统&积分变换', [], ['README.md', '_navbar.md', '_sidebar.md'])\n",
      "('doc\\\\数学工具\\\\复变函数', [], ['README.md', '_navbar.md', '_sidebar.md'])\n",
      "('doc\\\\数学工具\\\\数学物理方程', [], ['README.md', '_navbar.md', '_sidebar.md'])\n",
      "('doc\\\\数学工具\\\\矢量微积分', [], ['README.md', '_navbar.md', '_sidebar.md'])\n",
      "('doc\\\\数学工具\\\\线性代数', [], ['README.md', '_navbar.md', '_sidebar.md'])\n",
      "('doc\\\\数学工具\\\\高等数学', [], ['README.md', 'test.md', 'test1.md', 'test2.md', 'test3.md', '_navbar.md', '_sidebar.md'])\n",
      "('doc\\\\物理原理', ['力学', '普物实验', '热学', '物理光学', '电磁学'], ['README.md', '_navbar.md', '_sidebar.md'])\n",
      "('doc\\\\物理原理\\\\力学', [], ['README.md', '_navbar.md', '_sidebar.md'])\n",
      "('doc\\\\物理原理\\\\普物实验', [], ['README.md', '_navbar.md', '_sidebar.md'])\n",
      "('doc\\\\物理原理\\\\热学', [], ['README.md', '_navbar.md', '_sidebar.md'])\n",
      "('doc\\\\物理原理\\\\物理光学', [], ['README.md', '_navbar.md', '_sidebar.md'])\n",
      "('doc\\\\物理原理\\\\电磁学', [], ['README.md', '_navbar.md', '_sidebar.md'])\n",
      "('doc\\\\硬件', ['数电', '模电', '电路分析'], ['README.md', '_navbar.md', '_sidebar.md'])\n",
      "('doc\\\\硬件\\\\数电', [], ['README.md', '_navbar.md', '_sidebar.md'])\n",
      "('doc\\\\硬件\\\\模电', [], ['README.md', '_navbar.md', '_sidebar.md'])\n",
      "('doc\\\\硬件\\\\电路分析', [], ['README.md', '_navbar.md', '_sidebar.md'])\n",
      "('doc\\\\软件&科学计算', ['C', 'matlab', 'python', '并行计算', '数学建模', '计算机原理'], ['README.md', '_navbar.md', '_sidebar.md'])\n",
      "('doc\\\\软件&科学计算\\\\C', [], ['README.md', '_navbar.md', '_sidebar.md'])\n",
      "('doc\\\\软件&科学计算\\\\matlab', [], ['README.md', '_navbar.md', '_sidebar.md'])\n",
      "('doc\\\\软件&科学计算\\\\python', [], ['README.md', '_navbar.md', '_sidebar.md'])\n",
      "('doc\\\\软件&科学计算\\\\并行计算', [], ['README.md', '_navbar.md', '_sidebar.md'])\n",
      "('doc\\\\软件&科学计算\\\\数学建模', [], ['README.md', '_navbar.md', '_sidebar.md'])\n",
      "('doc\\\\软件&科学计算\\\\计算机原理', [], ['README.md', '_navbar.md', '_sidebar.md'])\n"
     ]
    }
   ],
   "source": [
    "for i in os.walk('doc'):\n",
    "    print(i)"
   ]
  },
  {
   "cell_type": "code",
   "execution_count": null,
   "metadata": {},
   "outputs": [],
   "source": [
    "for i in os.walk('doc'):\n",
    "    print(os.path.basename(i[0]))"
   ]
  },
  {
   "cell_type": "code",
   "execution_count": null,
   "metadata": {},
   "outputs": [],
   "source": [
    "#存储规则:除了readme,边栏等文件,同一目录下要么只有文件file要么只有目录dir\n",
    "import os\n",
    "def dirend(relp):\n",
    "    #找到不包含dir的dir,用fdlist存路径,包含dir的dir路径用ddlist存\n",
    "    global fdlist\n",
    "    global ddlist\n",
    "    #生成器返回(路径,[dirname_list],[filename_list])\n",
    "    temp=next(os.walk(relp))\n",
    "    #编写入口侧边栏\n",
    "    plen=len(temp[0].split('\\\\'))\n",
    "    if plen==2:\n",
    "        with open('_sidebar.md','a',encoding='utf-8') as f1:\n",
    "            f1.write(f'- [**{os.path.basename(temp[0])}**](/'+temp[0].replace('\\\\','/')+'/README.md)\\n')\n",
    "    elif plen>2:\n",
    "        with open('_sidebar.md','a',encoding='utf-8') as f1:\n",
    "            f1.write((plen-2)*2*' '+f'- [{os.path.basename(temp[0])}](/'+temp[0].replace('\\\\','/')+'/README.md)\\n')\n",
    "    else:\n",
    "        with open('_sidebar.md','w',encoding='utf-8') as f1:\n",
    "            f1.write('- [**首页**](/README.md)\\n')\n",
    "    #判断有无dir\n",
    "    if temp[1] and temp[1] !=['figure']:\n",
    "        #若有,将路径按特定格式加入ddlist\n",
    "        ddlist.append('/'+temp[0].replace('\\\\','/'))\n",
    "        #编写dir文件夹的侧边栏\n",
    "        sp=temp[0]+'\\\\_sidebar.md'\n",
    "        with open(sp,'w',encoding='utf-8') as sf:\n",
    "            sf.write(f'- [**首页**](/README.md)\\n- [**{os.path.basename(temp[0])}**](/'+temp[0].replace('\\\\','/')+'/README.md)\\n')\n",
    "            for i in temp[1]:\n",
    "                if(i not in ['figure']):\n",
    "                    sf.write(f'- [**{i}**](/'+temp[0].replace('\\\\','/')+f'/{i}/README.md)\\n')\n",
    "        #若有,对每个dir递归\n",
    "        for i in temp[1]:\n",
    "            dirend(relp+f'\\\\{i}')\n",
    "    else:\n",
    "        #若无,将路径按特定格式加入fdlist\n",
    "        fdlist.append('/'+temp[0].replace('\\\\','/'))\n",
    "        #编写file文件夹侧边栏\n",
    "        sp=temp[0]+'\\\\_sidebar.md'\n",
    "        with open(sp,'w',encoding='utf-8') as sf:\n",
    "            sf.write(f'- [**首页**](/README.md)\\n- [**{os.path.basename(temp[0])}**](/'+temp[0].replace('\\\\','/')+'/README.md)\\n')\n",
    "            for i in temp[2]:\n",
    "                if(i not in ['README.md','_navbar.md','_sidebar.md']):\n",
    "                    sf.write(f'- [**{i[0:-3]}**](/'+temp[0].replace('\\\\','/')+f'/{i})\\n')\n",
    "    #子目录README文件\n",
    "    rp=temp[0]+'\\\\README.md'\n",
    "    if not os.path.exists(rp):\n",
    "        with open(rp,'a',encoding='utf-8') as rf:\n",
    "            rf.write(f'# {os.path.basename(temp[0])}\\n## 简介\\n## 注意事项')\n",
    "    #复制导航栏文件(它会自动发送get请求,加载navbar,最好复制过来)\n",
    "    np=temp[0]+'\\\\_navbar.md'\n",
    "    if not os.path.exists(np):\n",
    "        with open(np,'a',encoding='utf-8') as nf:\n",
    "            with open('_navbar.md','r',encoding='utf-8') as copy:\n",
    "                nf.write(copy.read())\n",
    "if __name__ == '__main__':\n",
    "    fdlist=[]\n",
    "    ddlist=[]\n",
    "    dirend('doc')\n",
    "    print('不包含dir的dir的路径表 fdlsit:\\n',fdlist)\n",
    "    print('包含dir的dir的路径表 ddlsit:\\n',ddlist)\n",
    "    os.system('pause')"
   ]
  },
  {
   "cell_type": "code",
   "execution_count": 6,
   "metadata": {},
   "outputs": [
    {
     "name": "stdout",
     "output_type": "stream",
     "text": [
      "doc\n",
      "doc\n"
     ]
    }
   ],
   "source": [
    "import os\n",
    "o=os.walk('doc')\n",
    "temp=next(o)\n",
    "print(temp[0])\n",
    "print(temp[0])"
   ]
  }
 ],
 "metadata": {
  "kernelspec": {
   "display_name": "scopefoundry",
   "language": "python",
   "name": "python3"
  },
  "language_info": {
   "codemirror_mode": {
    "name": "ipython",
    "version": 3
   },
   "file_extension": ".py",
   "mimetype": "text/x-python",
   "name": "python",
   "nbconvert_exporter": "python",
   "pygments_lexer": "ipython3",
   "version": "3.10.14"
  },
  "orig_nbformat": 4
 },
 "nbformat": 4,
 "nbformat_minor": 2
}
