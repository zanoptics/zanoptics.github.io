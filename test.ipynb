{
 "cells": [
  {
   "cell_type": "code",
   "execution_count": 7,
   "metadata": {},
   "outputs": [
    {
     "data": {
      "text/plain": [
       "['README.md',\n",
       " '_navbar.md',\n",
       " '_sidebar.md',\n",
       " '参与编辑',\n",
       " '数学工具',\n",
       " '物理原理',\n",
       " '硬件',\n",
       " '软件&科学计算']"
      ]
     },
     "execution_count": 7,
     "metadata": {},
     "output_type": "execute_result"
    }
   ],
   "source": [
    "import os\n",
    "os.listdir('doc')"
   ]
  },
  {
   "cell_type": "code",
   "execution_count": null,
   "metadata": {},
   "outputs": [],
   "source": [
    "for i in os.listdir('doc'):\n",
    "    if os.listdir(i):\n",
    "        relp=f'/doc/{i}'\n",
    "        print(relp)"
   ]
  },
  {
   "cell_type": "code",
   "execution_count": 8,
   "metadata": {},
   "outputs": [
    {
     "name": "stdout",
     "output_type": "stream",
     "text": [
      "('doc', ['参与编辑', '数学工具', '物理原理', '硬件', '软件&科学计算'], ['README.md', '_navbar.md', '_sidebar.md'])\n",
      "('doc\\\\参与编辑', ['figure'], ['README.md', '_navbar.md', '_sidebar.md'])\n",
      "('doc\\\\参与编辑\\\\figure', [], ['sztu.png'])\n",
      "('doc\\\\数学工具', ['信号与系统&积分变换', '复变函数', '数学物理方程', '矢量微积分', '线性代数', '高等数学'], ['README.md', '_navbar.md', '_sidebar.md'])\n",
      "('doc\\\\数学工具\\\\信号与系统&积分变换', [], ['README.md', '_navbar.md', '_sidebar.md'])\n",
      "('doc\\\\数学工具\\\\复变函数', [], ['README.md', '_navbar.md', '_sidebar.md'])\n",
      "('doc\\\\数学工具\\\\数学物理方程', [], ['README.md', '_navbar.md', '_sidebar.md'])\n",
      "('doc\\\\数学工具\\\\矢量微积分', [], ['README.md', '_navbar.md', '_sidebar.md'])\n",
      "('doc\\\\数学工具\\\\线性代数', [], ['README.md', '_navbar.md', '_sidebar.md'])\n",
      "('doc\\\\数学工具\\\\高等数学', [], ['README.md', 'test.md', 'test1.md', 'test2.md', 'test3.md', '_navbar.md', '_sidebar.md'])\n",
      "('doc\\\\物理原理', ['力学', '普物实验', '热学', '物理光学', '电磁学'], ['README.md', '_navbar.md', '_sidebar.md'])\n",
      "('doc\\\\物理原理\\\\力学', [], ['README.md', '_navbar.md', '_sidebar.md'])\n",
      "('doc\\\\物理原理\\\\普物实验', [], ['README.md', '_navbar.md', '_sidebar.md'])\n",
      "('doc\\\\物理原理\\\\热学', [], ['README.md', '_navbar.md', '_sidebar.md'])\n",
      "('doc\\\\物理原理\\\\物理光学', [], ['README.md', '_navbar.md', '_sidebar.md'])\n",
      "('doc\\\\物理原理\\\\电磁学', [], ['README.md', '_navbar.md', '_sidebar.md'])\n",
      "('doc\\\\硬件', ['数电', '模电', '电路分析'], ['README.md', '_navbar.md', '_sidebar.md'])\n",
      "('doc\\\\硬件\\\\数电', [], ['README.md', '_navbar.md', '_sidebar.md'])\n",
      "('doc\\\\硬件\\\\模电', [], ['README.md', '_navbar.md', '_sidebar.md'])\n",
      "('doc\\\\硬件\\\\电路分析', [], ['README.md', '_navbar.md', '_sidebar.md'])\n",
      "('doc\\\\软件&科学计算', ['C', 'matlab', 'python', '并行计算', '数学建模', '计算机原理'], ['README.md', '_navbar.md', '_sidebar.md'])\n",
      "('doc\\\\软件&科学计算\\\\C', [], ['README.md', '_navbar.md', '_sidebar.md'])\n",
      "('doc\\\\软件&科学计算\\\\matlab', [], ['README.md', '_navbar.md', '_sidebar.md'])\n",
      "('doc\\\\软件&科学计算\\\\python', [], ['README.md', '_navbar.md', '_sidebar.md'])\n",
      "('doc\\\\软件&科学计算\\\\并行计算', [], ['README.md', '_navbar.md', '_sidebar.md'])\n",
      "('doc\\\\软件&科学计算\\\\数学建模', [], ['README.md', '_navbar.md', '_sidebar.md'])\n",
      "('doc\\\\软件&科学计算\\\\计算机原理', [], ['README.md', '_navbar.md', '_sidebar.md'])\n"
     ]
    }
   ],
   "source": [
    "for i in os.walk('doc'):\n",
    "    print(i)"
   ]
  },
  {
   "cell_type": "code",
   "execution_count": null,
   "metadata": {},
   "outputs": [],
   "source": [
    "for i in os.walk('doc'):\n",
    "    print(os.path.basename(i[0]))"
   ]
  },
  {
   "cell_type": "code",
   "execution_count": null,
   "metadata": {},
   "outputs": [],
   "source": [
    "#存储规则:除了readme,边栏等文件,同一目录下要么只有文件file要么只有目录dir\n",
    "import os\n",
    "def dirend(relp):\n",
    "    #找到不包含dir的dir,用fdlist存路径,包含dir的dir路径用ddlist存\n",
    "    global fdlist\n",
    "    global ddlist\n",
    "    #生成器返回(路径,[dirname_list],[filename_list])\n",
    "    temp=next(os.walk(relp))\n",
    "    #编写入口侧边栏\n",
    "    plen=len(temp[0].split('\\\\'))\n",
    "    if plen==2:\n",
    "        with open('_sidebar.md','a',encoding='utf-8') as f1:\n",
    "            f1.write(f'- [**{os.path.basename(temp[0])}**](/'+temp[0].replace('\\\\','/')+'/README.md)\\n')\n",
    "    elif plen>2:\n",
    "        with open('_sidebar.md','a',encoding='utf-8') as f1:\n",
    "            f1.write((plen-2)*2*' '+f'- [{os.path.basename(temp[0])}](/'+temp[0].replace('\\\\','/')+'/README.md)\\n')\n",
    "    else:\n",
    "        with open('_sidebar.md','w',encoding='utf-8') as f1:\n",
    "            f1.write('- [**首页**](/README.md)\\n')\n",
    "    #判断有无dir\n",
    "    if temp[1] and temp[1] !=['figure']:\n",
    "        #若有,将路径按特定格式加入ddlist\n",
    "        ddlist.append('/'+temp[0].replace('\\\\','/'))\n",
    "        #编写dir文件夹的侧边栏\n",
    "        sp=temp[0]+'\\\\_sidebar.md'\n",
    "        with open(sp,'w',encoding='utf-8') as sf:\n",
    "            sf.write(f'- [**首页**](/README.md)\\n- [**{os.path.basename(temp[0])}**](/'+temp[0].replace('\\\\','/')+'/README.md)\\n')\n",
    "            for i in temp[1]:\n",
    "                if(i not in ['figure']):\n",
    "                    sf.write(f'- [**{i}**](/'+temp[0].replace('\\\\','/')+f'/{i}/README.md)\\n')\n",
    "        #若有,对每个dir递归\n",
    "        for i in temp[1]:\n",
    "            dirend(relp+f'\\\\{i}')\n",
    "    else:\n",
    "        #若无,将路径按特定格式加入fdlist\n",
    "        fdlist.append('/'+temp[0].replace('\\\\','/'))\n",
    "        #编写file文件夹侧边栏\n",
    "        sp=temp[0]+'\\\\_sidebar.md'\n",
    "        with open(sp,'w',encoding='utf-8') as sf:\n",
    "            sf.write(f'- [**首页**](/README.md)\\n- [**{os.path.basename(temp[0])}**](/'+temp[0].replace('\\\\','/')+'/README.md)\\n')\n",
    "            for i in temp[2]:\n",
    "                if(i not in ['README.md','_navbar.md','_sidebar.md']):\n",
    "                    sf.write(f'- [**{i[0:-3]}**](/'+temp[0].replace('\\\\','/')+f'/{i})\\n')\n",
    "    #子目录README文件\n",
    "    rp=temp[0]+'\\\\README.md'\n",
    "    if not os.path.exists(rp):\n",
    "        with open(rp,'a',encoding='utf-8') as rf:\n",
    "            rf.write(f'# {os.path.basename(temp[0])}\\n## 简介\\n## 注意事项')\n",
    "    #复制导航栏文件(它会自动发送get请求,加载navbar,最好复制过来)\n",
    "    np=temp[0]+'\\\\_navbar.md'\n",
    "    if not os.path.exists(np):\n",
    "        with open(np,'a',encoding='utf-8') as nf:\n",
    "            with open('_navbar.md','r',encoding='utf-8') as copy:\n",
    "                nf.write(copy.read())\n",
    "if __name__ == '__main__':\n",
    "    fdlist=[]\n",
    "    ddlist=[]\n",
    "    dirend('doc')\n",
    "    print('不包含dir的dir的路径表 fdlsit:\\n',fdlist)\n",
    "    print('包含dir的dir的路径表 ddlsit:\\n',ddlist)\n",
    "    os.system('pause')"
   ]
  },
  {
   "cell_type": "code",
   "execution_count": 6,
   "metadata": {},
   "outputs": [
    {
     "name": "stdout",
     "output_type": "stream",
     "text": [
      "doc\n",
      "doc\n"
     ]
    }
   ],
   "source": [
    "import os\n",
    "o=os.walk('doc')\n",
    "temp=next(o)\n",
    "print(temp[0])\n",
    "print(temp[0])"
   ]
  }
 ],
 "metadata": {
  "kernelspec": {
   "display_name": "base",
   "language": "python",
   "name": "python3"
  },
  "language_info": {
   "codemirror_mode": {
    "name": "ipython",
    "version": 3
   },
   "file_extension": ".py",
   "mimetype": "text/x-python",
   "name": "python",
   "nbconvert_exporter": "python",
   "pygments_lexer": "ipython3",
   "version": "3.8.13 (default, Mar 28 2022, 06:59:08) [MSC v.1916 64 bit (AMD64)]"
  },
  "orig_nbformat": 4,
  "vscode": {
   "interpreter": {
    "hash": "286b2dbe1b3dcf6112d5eb26c490194af1255f31e1becdbac582aa7aadcd1572"
   }
  }
 },
 "nbformat": 4,
 "nbformat_minor": 2
}
